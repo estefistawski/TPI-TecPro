{
 "cells": [
  {
   "cell_type": "code",
   "execution_count": null,
   "id": "ea45a60e",
   "metadata": {},
   "outputs": [],
   "source": [
    "class Serivicio:\n",
    "    def __init__(self, unidad, fechaPartida, fechaLlegada, calidad,precio):\n",
    "        self.unidad = unidad\n",
    "        self.unidad = unidad\n",
    "        self.fechaPartida = fechaPartida\n",
    "        self.fechaLlegada = fechaLlegada\n",
    "        self.calidad = calidad\n",
    "        self.precio = precio\n",
    "\n",
    "        \n",
    "    \n"
   ]
  },
  {
   "cell_type": "code",
   "execution_count": null,
   "id": "01898892",
   "metadata": {},
   "outputs": [],
   "source": [
    "class Unidad:\n",
    "    def __init__(self,patente):\n",
    "        self.patente =patente\n",
    "        self.asientos = []"
   ]
  },
  {
   "cell_type": "code",
   "execution_count": null,
   "id": "b83babce",
   "metadata": {},
   "outputs": [],
   "source": [
    "class Asiento:\n",
    "    def __init__(self,numero,ocupado):\n",
    "        self.numero = numero\n",
    "        self.ocupado = False"
   ]
  },
  {
   "cell_type": "code",
   "execution_count": null,
   "id": "e1bcd6f0",
   "metadata": {},
   "outputs": [],
   "source": [
    "class Argentur:\n",
    "    def __init__(self, sistemaActivo):\n",
    "        self.sistemaActivo = sistemaActivo "
   ]
  },
  {
   "cell_type": "code",
   "execution_count": null,
   "id": "00a30d25",
   "metadata": {},
   "outputs": [],
   "source": [
    "class Venta:\n",
    "    def __init__(self, fechaHora):\n",
    "        self.fechaHora = fechaHora"
   ]
  },
  {
   "cell_type": "code",
   "execution_count": null,
   "id": "d58df088",
   "metadata": {},
   "outputs": [],
   "source": [
    "class Ciudad:\n",
    "    def __init__ (self, codigo, nombre, provincia):\n",
    "        self.codigo = codigo\n",
    "        self.nomnre = nombre\n",
    "        self.provincia = provincia\n",
    "        "
   ]
  },
  {
   "cell_type": "code",
   "execution_count": null,
   "id": "380ff462",
   "metadata": {},
   "outputs": [],
   "source": [
    "class Itinerario:\n",
    "    def __init__(self):\n",
    "        pass"
   ]
  }
 ],
 "metadata": {
  "language_info": {
   "name": "python"
  }
 },
 "nbformat": 4,
 "nbformat_minor": 5
}

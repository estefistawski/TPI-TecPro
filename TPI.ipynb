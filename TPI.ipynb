{
 "cells": [
  {
   "cell_type": "code",
   "execution_count": null,
   "id": "cf885c03",
   "metadata": {},
   "outputs": [],
   "source": [
    "class Unidad:\n",
    "    def __init__(self,patente):\n",
    "        self. patente = patente\n",
    "        self.asientos=[]"
   ]
  },
  {
   "cell_type": "code",
   "execution_count": null,
   "id": "30274fe3",
   "metadata": {},
   "outputs": [],
   "source": [
    "class Asiento:\n",
    "    def __init__(self, numero, ocupado):\n",
    "        self.numero=numero\n",
    "        self.ocupado=False"
   ]
  }
 ],
 "metadata": {
  "language_info": {
   "name": "python"
  }
 },
 "nbformat": 4,
 "nbformat_minor": 5
}

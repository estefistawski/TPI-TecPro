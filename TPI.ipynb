{
 "cells": [
  {
   "cell_type": "code",
<<<<<<< HEAD
   "execution_count": 2,
   "id": "dd497a23",
   "metadata": {},
   "outputs": [],
   "source": [
    "class Ciudad:\n",
    "    def __init__ (self, codigo, nombre, provincia):\n",
    "        self.codigo = codigo\n",
    "        self.nombre = nombre\n",
    "        self.provincia = provincia\n",
    "\n",
    "    def mostrar_ciudad(self):\n",
    "        print(f\"{self.codigo}: {self.get_nombre}, {self.get_provincia}\")\n",
    "        "
   ]
  },
  {
   "cell_type": "code",
   "execution_count": 10,
   "id": "6298bca5",
   "metadata": {},
   "outputs": [],
   "source": [
    "class Itinerario:\n",
    "    def __init__(self,CiudadOrigen:Ciudad,CiudadDestino:Ciudad,paradas: list[Ciudad],Detalle=None):\n",
    "        self.CiudadOrigen=CiudadOrigen\n",
    "        self.CiudadDestino=CiudadDestino\n",
    "        self.paradas=paradas\n",
    "        self.Detalle=Detalle\n",
    "    \n",
    "    def mostrar_itinerario(self):\n",
    "        print(f\"Origen: {self.origen}\")\n",
    "        print(f\"Destino: {self.destino}\")\n",
    "        if self.paradas:\n",
    "            print(\"Paradas intermedias:\")\n",
    "            for ciudad in self.paradas:\n",
    "                print(f\" - {ciudad}\")\n",
    "        else:\n",
    "            print(\"Sin paradas intermedias.\")\n",
    "    \n",
    "    def get_detalle(self):\n",
    "        return self.Detalle"
   ]
  },
  {
   "cell_type": "code",
   "execution_count": 11,
   "id": "cbca9f25",
   "metadata": {},
   "outputs": [],
   "source": [
    "from enum import Enum\n",
    "class CalidadDeServicio(Enum):\n",
    "    COMUN = \"común\"\n",
    "    EJECUTIVO = \"ejecutivo\"\n"
   ]
  },
  {
   "cell_type": "code",
   "execution_count": 17,
   "id": "1504ace0",
   "metadata": {},
   "outputs": [],
   "source": [
    "class Servicio:\n",
    "    def __init__(self, unidad, fechaPartida, fechaLlegada, calidad,precio,itinerario:Itinerario):\n",
    "        self.unidad = unidad\n",
    "        self.fechaPartida = fechaPartida\n",
    "        self.fechaLlegada = fechaLlegada\n",
    "        if isinstance(calidad, CalidadDeServicio):\n",
    "            self.calidad = calidad\n",
    "        self.precio = precio\n",
    "        self.itinerario=itinerario\n",
    "\n",
    "\n",
    "\n",
    "    def mostrar_servicio(self):\n",
    "        print(f\"itinerario: {self.itinerario.mostrar_itinerario()} \\n Calidad del servicio: {self.calidad} \\n fechas: {self.fechaPartida}-{self.fechaLlegada}\")\n",
    "\n",
    "\n",
    "    def get_unidad(self):\n",
    "        return self.unidad\n",
    "    def get_precio(self):\n",
    "        return self.precio\n"
   ]
  },
  {
   "cell_type": "code",
   "execution_count": null,
   "id": "e5a217a5",
   "metadata": {},
   "outputs": [],
   "source": [
    "class Venta:\n",
    "    def __init__(self, fechaHora):\n",
    "        self.fechaHora = fechaHora"
   ]
  },
  {
   "cell_type": "code",
   "execution_count": null,
   "id": "d2ed82ca",
   "metadata": {},
   "outputs": [],
   "source": [
    "class Reserva:\n",
    "    def __init__(self, fechaHora):\n",
    "        self.fechaHora = fechaHora\n",
    "    "
=======
   "execution_count": null,
   "id": "ea45a60e",
   "metadata": {},
   "outputs": [],
   "source": [
    "class Serivicio:\n",
    "    def __init__(self, unidad, fechaPartida, fechaLlegada, calidad,precio):\n",
    "        self.unidad = unidad\n",
    "        self.unidad = unidad\n",
    "        self.fechaPartida = fechaPartida\n",
    "        self.fechaLlegada = fechaLlegada\n",
    "        self.calidad = calidad\n",
    "        self.precio = precio\n",
    "\n",
    "        \n",
    "    \n"
>>>>>>> f14722f3d23125ba4cec311b8717c87935ebca10
   ]
  },
  {
   "cell_type": "code",
   "execution_count": null,
   "id": "01898892",
   "metadata": {},
   "outputs": [],
   "source": [
    "class Unidad:\n",
    "    def __init__(self,patente):\n",
    "        self.patente =patente\n",
    "        self.asientos = []"
   ]
  },
  {
   "cell_type": "code",
   "execution_count": null,
   "id": "b83babce",
   "metadata": {},
   "outputs": [],
   "source": [
    "class Asiento:\n",
<<<<<<< HEAD
    "    def __init__(self, numero, ocupado):\n",
    "        self.numero=numero\n",
    "        self.ocupado=False\n",
    "    def ocupar(self):\n",
    "        if not self.ocupado:\n",
    "            self.ocupado = True\n",
    "            print(f\"Asiento {self.numero} ocupado.\")\n",
    "        else:\n",
    "            print(f\"Asiento {self.numero} ya está ocupado.\")"
=======
    "    def __init__(self,numero,ocupado):\n",
    "        self.numero = numero\n",
    "        self.ocupado = False"
>>>>>>> f14722f3d23125ba4cec311b8717c87935ebca10
   ]
  },
  {
   "cell_type": "code",
   "execution_count": null,
<<<<<<< HEAD
   "id": "cf885c03",
   "metadata": {},
   "outputs": [],
   "source": [
    "class Unidad:\n",
    "    def __init__(self,patente,asientos: list[Asiento]):\n",
    "        self. patente = patente\n",
    "        self.asientos=asientos"
   ]
  },
  {
   "cell_type": "code",
   "execution_count": null,
   "id": "ad2e3030",
   "metadata": {},
   "outputs": [],
   "source": [
    "\n",
    "class Pasajero():\n",
    "    def __init__(self, nombre, email, dni):\n",
    "        self.nombre=nombre\n",
    "        self.email=email\n",
    "        self.dni=dni"
   ]
  },
  {
   "cell_type": "code",
   "execution_count": null,
   "id": "f28ec9a1",
   "metadata": {},
   "outputs": [],
   "source": [
    "from abc import ABC, abstractmethod\n",
    "class MedioPago(ABC):\n",
    "    @abstractmethod\n",
    "    def procesarPago(self, monto: float):\n",
    "        pass\n",
    "\n",
    "    @abstractmethod\n",
    "    def verificarEstado(self) -> bool:\n",
    "        pass"
   ]
  },
  {
   "cell_type": "code",
   "execution_count": null,
   "id": "9ef0a1c2",
   "metadata": {},
   "outputs": [],
   "source": [
    "class TarjetaCredito(MedioPago):\n",
    "    def _init_(self, numero, DNItitular, nombre, fechaVencimiento):\n",
    "        self.numero=numero\n",
    "        self.DNItitular=DNItitular\n",
    "        self.nombre=nombre\n",
    "        self.fechaVencimiento=fechaVencimiento"
   ]
  },
  {
   "cell_type": "code",
   "execution_count": null,
   "id": "455e0321",
   "metadata": {},
   "outputs": [],
   "source": [
    "class MercadoPago(MedioPago):\n",
    "    def _init_(self, celular, email):\n",
    "        self.celular=celular\n",
    "        self.email=email"
   ]
  },
  {
   "cell_type": "code",
   "execution_count": null,
   "id": "b6f6da4c",
   "metadata": {},
   "outputs": [],
   "source": [
    "class Uala(MedioPago):\n",
    "    def __init__(self,email,nombre):\n",
    "        self.email=email\n",
    "        self.nombre=nombre\n"
   ]
  },
  {
   "cell_type": "code",
   "execution_count": 22,
   "id": "920c59ae",
=======
   "id": "e1bcd6f0",
>>>>>>> f14722f3d23125ba4cec311b8717c87935ebca10
   "metadata": {},
   "outputs": [],
   "source": [
    "class Argentur:\n",
<<<<<<< HEAD
    "    def __init__(self, sistemaActivo :bool, servicios: list[Servicio]):\n",
    "        self.sistemaActivo=sistemaActivo\n",
    "        self.servicios=servicios\n",
    "\n",
    "    def mostrar_servicios(self):\n",
    "        for servicio in self.servicios:\n",
    "            servicio.mostrar_servicio()\n",
    "\n",
    "    \n",
    "\n",
    "    \n"
=======
    "    def __init__(self, sistemaActivo):\n",
    "        self.sistemaActivo = sistemaActivo "
   ]
  },
  {
   "cell_type": "code",
   "execution_count": null,
   "id": "00a30d25",
   "metadata": {},
   "outputs": [],
   "source": [
    "class Venta:\n",
    "    def __init__(self, fechaHora):\n",
    "        self.fechaHora = fechaHora"
   ]
  },
  {
   "cell_type": "code",
   "execution_count": null,
   "id": "d58df088",
   "metadata": {},
   "outputs": [],
   "source": [
    "class Ciudad:\n",
    "    def __init__ (self, codigo, nombre, provincia):\n",
    "        self.codigo = codigo\n",
    "        self.nomnre = nombre\n",
    "        self.provincia = provincia\n",
    "        "
   ]
  },
  {
   "cell_type": "code",
   "execution_count": null,
   "id": "380ff462",
   "metadata": {},
   "outputs": [],
   "source": [
    "class Itinerario:\n",
    "    def __init__(self):\n",
    "        pass"
>>>>>>> f14722f3d23125ba4cec311b8717c87935ebca10
   ]
  }
 ],
 "metadata": {
  "kernelspec": {
   "display_name": "Python 3",
   "language": "python",
   "name": "python3"
  },
  "language_info": {
   "codemirror_mode": {
    "name": "ipython",
    "version": 3
   },
   "file_extension": ".py",
   "mimetype": "text/x-python",
   "name": "python",
   "nbconvert_exporter": "python",
   "pygments_lexer": "ipython3",
   "version": "3.13.2"
  }
 },
 "nbformat": 4,
 "nbformat_minor": 5
}

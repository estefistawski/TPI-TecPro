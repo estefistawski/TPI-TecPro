{
 "cells": [
  {
   "cell_type": "code",
   "execution_count": 45,
   "id": "dd497a23",
   "metadata": {},
   "outputs": [],
   "source": [
    "class Ciudad:\n",
    "    def __init__ (self, codigo, nombre, provincia):\n",
    "        self.codigo = codigo\n",
    "        self.nombre = nombre\n",
    "        self.provincia = provincia\n",
    "\n",
    "    def mostrar_ciudad(self):\n",
    "        print(f\"{self.codigo}: {self.get_nombre}, {self.get_provincia}\")\n",
    "        "
   ]
  },
  {
   "cell_type": "code",
   "execution_count": 46,
   "id": "6298bca5",
   "metadata": {},
   "outputs": [],
   "source": [
    "class Itinerario:\n",
    "    def __init__(self,CiudadOrigen:Ciudad,CiudadDestino:Ciudad,paradas: list[Ciudad],Detalle=None):\n",
    "        self.CiudadOrigen=CiudadOrigen\n",
    "        self.CiudadDestino=CiudadDestino\n",
    "        self.paradas=paradas\n",
    "        self.Detalle=Detalle\n",
    "    \n",
    "    def mostrar_itinerario(self):\n",
    "        print(f\"Origen: {self.origen}\")\n",
    "        print(f\"Destino: {self.destino}\")\n",
    "        if self.paradas:\n",
    "            print(\"Paradas intermedias:\")\n",
    "            for ciudad in self.paradas:\n",
    "                print(f\" - {ciudad}\")\n",
    "        else:\n",
    "            print(\"Sin paradas intermedias.\")\n",
    "    \n",
    "    def get_detalle(self):\n",
    "        return self.Detalle"
   ]
  },
  {
   "cell_type": "code",
   "execution_count": 47,
   "id": "cbca9f25",
   "metadata": {},
   "outputs": [],
   "source": [
    "from enum import Enum\n",
    "class CalidadDeServicio(Enum):\n",
    "    COMUN = \"común\"\n",
    "    EJECUTIVO = \"ejecutivo\"\n"
   ]
  },
  {
   "cell_type": "code",
   "execution_count": 48,
   "id": "1504ace0",
   "metadata": {},
   "outputs": [],
   "source": [
    "from datetime import datetime\n",
    "class Servicio:\n",
    "    def __init__(self, unidad, fechaPartida , fechaLlegada , horasalida, calidad,precio,itinerario:Itinerario):\n",
    "        self.unidad = unidad\n",
    "        self.fechaPartida = fechaPartida\n",
    "        self.fechaLlegada = fechaLlegada\n",
    "        self.horasalida = horasalida\n",
    "        if isinstance(calidad, CalidadDeServicio):\n",
    "            self.calidad = calidad\n",
    "        self.precio = precio\n",
    "        self.itinerario=itinerario\n",
    "\n",
    "\n",
    "\n",
    "    def mostrar_servicio(self):\n",
    "        print(f\"itinerario: {self.itinerario.mostrar_itinerario()} \\n Calidad del servicio: {self.calidad} \\n fechas: {self.fechaPartida}-{self.fechaLlegada}\")\n",
    "\n",
    "\n",
    "    def get_unidad(self):\n",
    "        return self.unidad\n",
    "    \n",
    "    def get_fechapartida(self):\n",
    "        return self.fechaPartida\n",
    "    \n",
    "    def get_asientos_disponibles(self):\n",
    "        print(f\"Asientos libres: {self.unidad.mostrar_asientos_disponibles()}\")\n",
    "\n",
    "    def get_asientos_ocupados(self):\n",
    "        print(f\"Asientos ocupados: {self.unidad.mostrar_asientos_ocupados()}\")\n",
    "        \n",
    "    def get_precio(self):\n",
    "        return self.precio\n"
   ]
  },
  {
   "cell_type": "code",
   "execution_count": 49,
   "id": "30274fe3",
   "metadata": {},
   "outputs": [],
   "source": [
    "class Asiento:\n",
    "    def __init__(self, numero, ocupado=False):\n",
    "        self.numero=numero\n",
    "        self.ocupado=ocupado\n",
    "\n",
    "    def get_numero(self):\n",
    "        return self.numero\n",
    "    \n",
    "    def get_estado(self):\n",
    "        return self.ocupado\n",
    "    \n",
    "    \n",
    "    def ocupar(self):\n",
    "        if self.ocupado==False:\n",
    "            self.ocupado = True\n",
    "            \n",
    "    def num_asiento_libre(self):\n",
    "        if not self.ocupado:\n",
    "            return self.numero\n",
    "        return None\n",
    "\n",
    "    "
   ]
  },
  {
   "cell_type": "code",
   "execution_count": 50,
   "id": "ad2e3030",
   "metadata": {},
   "outputs": [],
   "source": [
    "\n",
    "class Pasajero():\n",
    "    def __init__(self, nombre, email, dni):\n",
    "        self.nombre=nombre\n",
    "        self.email=email\n",
    "        self.dni=dni\n",
    "\n",
    "    def get_nombre(self):\n",
    "        return self.nombre\n",
    "    \n",
    "    \n",
    "    def seleccionar_asiento(self, asiento:Asiento):\n",
    "        if not asiento.get_estado():\n",
    "            asiento.ocupar()\n",
    "            return asiento.get_numero()\n",
    "        else:\n",
    "            print(\"El asiento que selecciono no esta disponible, por favor elija otro asiento: \")\n",
    "            self.seleccionar_asiento(input(asiento))  \n",
    "    \n",
    "        "
   ]
  },
  {
   "cell_type": "code",
   "execution_count": 51,
   "id": "e5a217a5",
   "metadata": {},
   "outputs": [],
   "source": [
    "class Venta:\n",
    "    def __init__(self, fechaHora):\n",
    "        self.fechaHora = fechaHora"
   ]
  },
  {
   "cell_type": "code",
   "execution_count": 52,
   "id": "d2ed82ca",
   "metadata": {},
   "outputs": [],
   "source": [
    "from datetime import datetime\n",
    "class Reserva:\n",
    "    def __init__(self, servicio: 'Servicio'):\n",
    "        self.servicio = servicio\n",
    "        self.fechaHora=None\n",
    "\n",
    "    def get_servicio(self):\n",
    "        return self.servicio\n",
    "\n",
    "    def realizar_reserva(self, pasajero: 'Pasajero'):\n",
    "        fechaHora = datetime.now()\n",
    "        pasajero.seleccionar_asiento()\n",
    "        \n",
    "\n",
    "        print(f\"{fechaHora.strftime('%d/%m/%Y %H:%M:%S')}\")\n",
    "   \n",
    "        print(f\"Reserva realizada: Pasajero {pasajero.get_nombre()}, asiento {pasajero.seleccionar_asiento()}, servicio del {self.servicio.get_fechapartida()}\")\n",
    "    "
   ]
  },
  {
   "cell_type": "code",
   "execution_count": 53,
   "id": "cf885c03",
   "metadata": {},
   "outputs": [],
   "source": [
    "class Unidad:\n",
    "    def __init__(self,patente,asientos: list[Asiento]):\n",
    "        self. patente = patente\n",
    "        self.asientos=asientos\n",
    "\n",
    "    def mostrar_asientos_disponibles(self):\n",
    "        for asiento in self.asientos:\n",
    "            print(f\"{asiento.num_asiento_libre()}\")\n",
    "\n",
    "    def mostrar_asientos_ocupados(self):\n",
    "        for asiento in self.asientos:\n",
    "            print(f\"{not(asiento.num_asiento_libre())}\")\n",
    "\n",
    "    def get_patente(self):\n",
    "        return self.patente"
   ]
  },
  {
   "cell_type": "code",
   "execution_count": 54,
   "id": "f28ec9a1",
   "metadata": {},
   "outputs": [],
   "source": [
    "from abc import ABC, abstractmethod\n",
    "class MedioPago(ABC):\n",
    "    @abstractmethod\n",
    "    def procesarPago(self, monto: float):\n",
    "        pass\n",
    "\n",
    "    @abstractmethod\n",
    "    def verificarEstado(self) -> bool:\n",
    "        pass"
   ]
  },
  {
   "cell_type": "code",
   "execution_count": 55,
   "id": "9ef0a1c2",
   "metadata": {},
   "outputs": [],
   "source": [
    "class TarjetaCredito(MedioPago):\n",
    "    def _init_(self, numero, DNItitular, nombre, fechaVencimiento):\n",
    "        self.numero=numero\n",
    "        self.DNItitular=DNItitular\n",
    "        self.nombre=nombre\n",
    "        self.fechaVencimiento=fechaVencimiento"
   ]
  },
  {
   "cell_type": "code",
   "execution_count": 56,
   "id": "455e0321",
   "metadata": {},
   "outputs": [],
   "source": [
    "class MercadoPago(MedioPago):\n",
    "    def _init_(self, celular, email):\n",
    "        self.celular=celular\n",
    "        self.email=email"
   ]
  },
  {
   "cell_type": "code",
   "execution_count": 57,
   "id": "b6f6da4c",
   "metadata": {},
   "outputs": [],
   "source": [
    "class Uala(MedioPago):\n",
    "    def __init__(self,email,nombre):\n",
    "        self.email=email\n",
    "        self.nombre=nombre\n"
   ]
  },
  {
   "cell_type": "code",
   "execution_count": 58,
   "id": "920c59ae",
   "metadata": {},
   "outputs": [],
   "source": [
    "class Argentur:\n",
    "    def __init__(self, sistemaActivo :bool, servicios: list[Servicio]):\n",
    "        self.sistemaActivo=sistemaActivo\n",
    "        self.servicios=servicios\n",
    "\n",
    "    def mostrar_servicios(self):\n",
    "        for servicio in self.servicios:\n",
    "            servicio.mostrar_servicio()\n",
    "\n",
    "    \n",
    "\n",
    "    \n"
   ]
  }
 ],
 "metadata": {
  "kernelspec": {
   "display_name": "Python 3",
   "language": "python",
   "name": "python3"
  },
  "language_info": {
   "codemirror_mode": {
    "name": "ipython",
    "version": 3
   },
   "file_extension": ".py",
   "mimetype": "text/x-python",
   "name": "python",
   "nbconvert_exporter": "python",
   "pygments_lexer": "ipython3",
   "version": "3.13.2"
  }
 },
 "nbformat": 4,
 "nbformat_minor": 5
}

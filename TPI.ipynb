{
 "cells": [
  {
   "cell_type": "code",
   "execution_count": null,
   "id": "b1bd5fce",
   "metadata": {},
   "outputs": [],
   "source": [
    "from abc import ABC, abstractmethod\n",
    "\n",
    "class Pasajero():\n",
    "    def __init__(self, nombre, email, dni):\n",
    "        self.nombre=nombre\n",
    "        self.email=email\n",
    "        self.dni=dni\n",
    "\n",
    "\n"
   ]
  },
  {
   "cell_type": "code",
   "execution_count": null,
   "id": "a4a183d7",
   "metadata": {},
   "outputs": [],
   "source": [
    "class Uala(MedioPago):\n",
    "    def __init__(self,email,nombre):\n",
    "        self.email=email\n",
    "        self.nombre=nombre\n",
    "\n",
    "\n"
   ]
  },
  {
   "cell_type": "code",
   "execution_count": null,
   "id": "1268dcb1",
   "metadata": {},
   "outputs": [],
   "source": [
    "class MercadoPago(MedioPago):\n",
    "    def __init__(self, celular, email):\n",
    "        self.celular=celular\n",
    "        self.email=email\n",
    "\n"
   ]
  },
  {
   "cell_type": "code",
   "execution_count": null,
   "id": "fcce70b2",
   "metadata": {},
   "outputs": [],
   "source": [
    "class TarjetaCredito(MedioPago):\n",
    "    def __init__(self, numero, DNItitular, nombre, fechaVencimiento):\n",
    "        self.numero=numero\n",
    "        self.DNItitular=DNItitular\n",
    "        self.nombre=nombre\n",
    "        self.fechaVencimiento=fechaVencimiento\n",
    "\n",
    "\n"
   ]
  },
  {
   "cell_type": "code",
   "execution_count": null,
   "id": "19b80b92",
   "metadata": {},
   "outputs": [],
   "source": [
    "class MedioPago(ABC):\n",
    "    @abstractmethod\n",
    "    def procesarPago(self, monto: float):\n",
    "        pass\n",
    "\n",
    "    @abstractmethod\n",
    "    def verificarEstado(self) -> bool:\n",
    "        pass\n"
   ]
  }
 ],
 "metadata": {
  "kernelspec": {
   "display_name": "Python 3",
   "language": "python",
   "name": "python3"
  },
  "language_info": {
   "codemirror_mode": {
    "name": "ipython",
    "version": 3
   },
   "file_extension": ".py",
   "mimetype": "text/x-python",
   "name": "python",
   "nbconvert_exporter": "python",
   "pygments_lexer": "ipython3",
   "version": "3.13.2"
  }
 },
 "nbformat": 4,
 "nbformat_minor": 5
}

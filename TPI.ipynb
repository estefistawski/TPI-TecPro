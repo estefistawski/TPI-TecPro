{
 "cells": [
  {
   "cell_type": "code",
   "execution_count": null,
<<<<<<< HEAD
   "id": "b1bd5fce",
   "metadata": {},
   "outputs": [],
   "source": [
    "from abc import ABC, abstractmethod\n",
    "\n",
    "class Pasajero():\n",
    "    def __init__(self, nombre, email, dni):\n",
    "        self.nombre=nombre\n",
    "        self.email=email\n",
    "        self.dni=dni\n",
    "\n",
    "\n"
=======
   "id": "ea45a60e",
   "metadata": {},
   "outputs": [],
   "source": [
    "class Serivicio:\n",
    "    def __init__(self, unidad, fechaPartida, fechaLlegada, calidad,precio):\n",
    "        self.unidad = unidad\n",
    "        self.unidad = unidad\n",
    "        self.fechaPartida = fechaPartida\n",
    "        self.fechaLlegada = fechaLlegada\n",
    "        self.calidad = calidad\n",
    "        self.precio = precio\n",
    "\n",
    "        \n",
    "    \n"
>>>>>>> edf62634136d4b6a45f86e89f144e4e0fa67af32
   ]
  },
  {
   "cell_type": "code",
   "execution_count": null,
<<<<<<< HEAD
   "id": "a4a183d7",
   "metadata": {},
   "outputs": [],
   "source": [
    "class Uala(MedioPago):\n",
    "    def __init__(self,email,nombre):\n",
    "        self.email=email\n",
    "        self.nombre=nombre\n",
    "\n",
    "\n"
=======
   "id": "e1bcd6f0",
   "metadata": {},
   "outputs": [],
   "source": [
    "class Argentur:\n",
    "    def __init__(self, sistemaActivo):\n",
    "        self.sistemaActivo = sistemaActivo "
>>>>>>> edf62634136d4b6a45f86e89f144e4e0fa67af32
   ]
  },
  {
   "cell_type": "code",
   "execution_count": null,
<<<<<<< HEAD
   "id": "1268dcb1",
   "metadata": {},
   "outputs": [],
   "source": [
    "class MercadoPago(MedioPago):\n",
    "    def __init__(self, celular, email):\n",
    "        self.celular=celular\n",
    "        self.email=email\n",
    "\n"
=======
   "id": "00a30d25",
   "metadata": {},
   "outputs": [],
   "source": [
    "class Venta:\n",
    "    def __init__(self, fechaHora):\n",
    "        self.fechaHora = fechaHora"
>>>>>>> edf62634136d4b6a45f86e89f144e4e0fa67af32
   ]
  },
  {
   "cell_type": "code",
   "execution_count": null,
<<<<<<< HEAD
   "id": "fcce70b2",
   "metadata": {},
   "outputs": [],
   "source": [
    "class TarjetaCredito(MedioPago):\n",
    "    def __init__(self, numero, DNItitular, nombre, fechaVencimiento):\n",
    "        self.numero=numero\n",
    "        self.DNItitular=DNItitular\n",
    "        self.nombre=nombre\n",
    "        self.fechaVencimiento=fechaVencimiento\n",
    "\n",
    "\n"
=======
   "id": "d58df088",
   "metadata": {},
   "outputs": [],
   "source": [
    "class Ciudad:\n",
    "    def __init__ (self, codigo, nombre, provincia):\n",
    "        self.codigo = codigo\n",
    "        self.nomnre = nombre\n",
    "        self.provincia = provincia\n",
    "        "
>>>>>>> edf62634136d4b6a45f86e89f144e4e0fa67af32
   ]
  },
  {
   "cell_type": "code",
   "execution_count": null,
<<<<<<< HEAD
   "id": "19b80b92",
   "metadata": {},
   "outputs": [],
   "source": [
    "class MedioPago(ABC):\n",
    "    @abstractmethod\n",
    "    def procesarPago(self, monto: float):\n",
    "        pass\n",
    "\n",
    "    @abstractmethod\n",
    "    def verificarEstado(self) -> bool:\n",
    "        pass\n"
=======
   "id": "380ff462",
   "metadata": {},
   "outputs": [],
   "source": [
    "class Itinerario:\n",
    "    def __init__(self):\n",
    "        pass"
>>>>>>> edf62634136d4b6a45f86e89f144e4e0fa67af32
   ]
  }
 ],
 "metadata": {
<<<<<<< HEAD
  "kernelspec": {
   "display_name": "Python 3",
   "language": "python",
   "name": "python3"
  },
  "language_info": {
   "codemirror_mode": {
    "name": "ipython",
    "version": 3
   },
   "file_extension": ".py",
   "mimetype": "text/x-python",
   "name": "python",
   "nbconvert_exporter": "python",
   "pygments_lexer": "ipython3",
   "version": "3.13.2"
=======
  "language_info": {
   "name": "python"
>>>>>>> edf62634136d4b6a45f86e89f144e4e0fa67af32
  }
 },
 "nbformat": 4,
 "nbformat_minor": 5
}
